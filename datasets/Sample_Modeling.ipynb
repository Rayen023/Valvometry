{
 "cells": [
  {
   "cell_type": "code",
   "execution_count": 1,
   "id": "822ecfa3-856a-401a-bb3b-29a3e0e120e9",
   "metadata": {},
   "outputs": [],
   "source": [
    "import pandas as pd\n",
    "import numpy as np\n",
    "import glob"
   ]
  },
  {
   "cell_type": "code",
   "execution_count": 2,
   "id": "594dd03e-91d7-41ae-ad3a-a07180c85d1f",
   "metadata": {},
   "outputs": [
    {
     "data": {
      "text/plain": [
       "'/dataLarihs/rayen/projects/Oysters'"
      ]
     },
     "execution_count": 2,
     "metadata": {},
     "output_type": "execute_result"
    }
   ],
   "source": [
    "%pwd"
   ]
  },
  {
   "cell_type": "code",
   "execution_count": 3,
   "id": "b788f439-5aa6-43d7-afc0-eb0fe39a00cb",
   "metadata": {},
   "outputs": [
    {
     "data": {
      "text/html": [
       "<div>\n",
       "<style scoped>\n",
       "    .dataframe tbody tr th:only-of-type {\n",
       "        vertical-align: middle;\n",
       "    }\n",
       "\n",
       "    .dataframe tbody tr th {\n",
       "        vertical-align: top;\n",
       "    }\n",
       "\n",
       "    .dataframe thead th {\n",
       "        text-align: right;\n",
       "    }\n",
       "</style>\n",
       "<table border=\"1\" class=\"dataframe\">\n",
       "  <thead>\n",
       "    <tr style=\"text-align: right;\">\n",
       "      <th></th>\n",
       "      <th>sequence</th>\n",
       "      <th>ID</th>\n",
       "      <th>label</th>\n",
       "    </tr>\n",
       "  </thead>\n",
       "  <tbody>\n",
       "    <tr>\n",
       "      <th>0</th>\n",
       "      <td>0.410940</td>\n",
       "      <td>A1</td>\n",
       "      <td>1</td>\n",
       "    </tr>\n",
       "    <tr>\n",
       "      <th>1</th>\n",
       "      <td>0.412114</td>\n",
       "      <td>A1</td>\n",
       "      <td>1</td>\n",
       "    </tr>\n",
       "    <tr>\n",
       "      <th>2</th>\n",
       "      <td>0.406828</td>\n",
       "      <td>A1</td>\n",
       "      <td>1</td>\n",
       "    </tr>\n",
       "    <tr>\n",
       "      <th>3</th>\n",
       "      <td>0.448529</td>\n",
       "      <td>A1</td>\n",
       "      <td>1</td>\n",
       "    </tr>\n",
       "    <tr>\n",
       "      <th>4</th>\n",
       "      <td>0.435020</td>\n",
       "      <td>A1</td>\n",
       "      <td>1</td>\n",
       "    </tr>\n",
       "    <tr>\n",
       "      <th>...</th>\n",
       "      <td>...</td>\n",
       "      <td>...</td>\n",
       "      <td>...</td>\n",
       "    </tr>\n",
       "    <tr>\n",
       "      <th>17387995</th>\n",
       "      <td>0.470848</td>\n",
       "      <td>I2</td>\n",
       "      <td>0</td>\n",
       "    </tr>\n",
       "    <tr>\n",
       "      <th>17387996</th>\n",
       "      <td>0.471435</td>\n",
       "      <td>I2</td>\n",
       "      <td>0</td>\n",
       "    </tr>\n",
       "    <tr>\n",
       "      <th>17387997</th>\n",
       "      <td>0.471435</td>\n",
       "      <td>I2</td>\n",
       "      <td>0</td>\n",
       "    </tr>\n",
       "    <tr>\n",
       "      <th>17387998</th>\n",
       "      <td>0.471435</td>\n",
       "      <td>I2</td>\n",
       "      <td>0</td>\n",
       "    </tr>\n",
       "    <tr>\n",
       "      <th>17387999</th>\n",
       "      <td>0.469086</td>\n",
       "      <td>I2</td>\n",
       "      <td>0</td>\n",
       "    </tr>\n",
       "  </tbody>\n",
       "</table>\n",
       "<p>17388000 rows × 3 columns</p>\n",
       "</div>"
      ],
      "text/plain": [
       "          sequence  ID  label\n",
       "0         0.410940  A1      1\n",
       "1         0.412114  A1      1\n",
       "2         0.406828  A1      1\n",
       "3         0.448529  A1      1\n",
       "4         0.435020  A1      1\n",
       "...            ...  ..    ...\n",
       "17387995  0.470848  I2      0\n",
       "17387996  0.471435  I2      0\n",
       "17387997  0.471435  I2      0\n",
       "17387998  0.471435  I2      0\n",
       "17387999  0.469086  I2      0\n",
       "\n",
       "[17388000 rows x 3 columns]"
      ]
     },
     "execution_count": 3,
     "metadata": {},
     "output_type": "execute_result"
    }
   ],
   "source": [
    "train_df = pd.read_csv(\"sampled_train10.csv\" , index_col = 0)\n",
    "train_df"
   ]
  },
  {
   "cell_type": "code",
   "execution_count": 4,
   "id": "0505b884-981c-4dd5-a6ae-78ba1fd9438c",
   "metadata": {},
   "outputs": [],
   "source": [
    "import pandas as pd\n",
    "\n",
    "# Step 1: Create an empty DataFrame with the same column structure as train_df\n",
    "expanded_df = pd.DataFrame(columns=train_df.columns)\n",
    "\n",
    "# Step 2: Iterate over each unique ID\n",
    "for unique_id in train_df['ID'].unique():\n",
    "    # Step 3: Get the rows corresponding to the current ID\n",
    "    id_rows = train_df.loc[train_df['ID'] == unique_id]\n",
    "    \n",
    "    # Step 4: Divide the current ID into the desired number of segments\n",
    "    segments = 16\n",
    "    \n",
    "    # Calculate segment length\n",
    "    segment_length = len(id_rows) // segments\n",
    "    \n",
    "    # Step 5: Create new rows by combining the divided IDs with the original gender and channel values\n",
    "    for i in range(segments):\n",
    "        segment_start = i * segment_length\n",
    "        segment_end = (i + 1) * segment_length\n",
    "        new_id = f\"{unique_id}_{i+1}\"\n",
    "        new_rows = id_rows.iloc[segment_start:segment_end].copy()\n",
    "        new_rows['ID'] = new_id\n",
    "        expanded_df = pd.concat([expanded_df, new_rows])\n",
    "\n",
    "# Reset the index of the expanded DataFrame\n",
    "expanded_df.reset_index(drop=True, inplace=True)\n",
    "\n",
    "expanded_df = expanded_df.astype(train_df.dtypes)\n",
    "\n",
    "# Print the expanded DataFrame\n",
    "train_df = expanded_df\n"
   ]
  },
  {
   "cell_type": "code",
   "execution_count": 5,
   "id": "2474932b-c42e-4435-99bd-8ca57890d9c2",
   "metadata": {},
   "outputs": [
    {
     "data": {
      "text/plain": [
       "sequence    float64\n",
       "ID           object\n",
       "label         int64\n",
       "dtype: object"
      ]
     },
     "execution_count": 5,
     "metadata": {},
     "output_type": "execute_result"
    }
   ],
   "source": [
    "expanded_df.dtypes"
   ]
  },
  {
   "cell_type": "code",
   "execution_count": 6,
   "id": "a4e31839-62dc-44b3-a567-6d729fd1c409",
   "metadata": {},
   "outputs": [
    {
     "data": {
      "text/plain": [
       "ID\n",
       "A1_1     36187\n",
       "A1_10    36187\n",
       "A1_11    36187\n",
       "A1_12    36187\n",
       "A1_13    36187\n",
       "         ...  \n",
       "I2_5     36375\n",
       "I2_6     36375\n",
       "I2_7     36375\n",
       "I2_8     36375\n",
       "I2_9     36375\n",
       "Length: 480, dtype: int64"
      ]
     },
     "execution_count": 6,
     "metadata": {},
     "output_type": "execute_result"
    }
   ],
   "source": [
    "grouped = train_df.groupby(\"ID\")\n",
    "grouped.size()"
   ]
  },
  {
   "cell_type": "code",
   "execution_count": 7,
   "id": "0f72dfa5-a1ee-4992-8171-e940751bd219",
   "metadata": {},
   "outputs": [
    {
     "data": {
      "text/plain": [
       "36187"
      ]
     },
     "execution_count": 7,
     "metadata": {},
     "output_type": "execute_result"
    }
   ],
   "source": [
    "min_count = grouped.size().min()\n",
    "min_count"
   ]
  },
  {
   "cell_type": "code",
   "execution_count": 8,
   "id": "097a27be-b0a6-4f70-82e8-0c97608d8d2a",
   "metadata": {},
   "outputs": [
    {
     "data": {
      "text/plain": [
       "<pandas.core.groupby.generic.DataFrameGroupBy object at 0x7fbdf88bc8b0>"
      ]
     },
     "execution_count": 8,
     "metadata": {},
     "output_type": "execute_result"
    }
   ],
   "source": [
    "grouped"
   ]
  },
  {
   "cell_type": "code",
   "execution_count": 9,
   "id": "a072131f-b93b-4af3-bdfe-d6295777944a",
   "metadata": {},
   "outputs": [],
   "source": [
    "from sklearn.preprocessing import LabelEncoder\n",
    "import tqdm\n",
    "import gc"
   ]
  },
  {
   "cell_type": "code",
   "execution_count": null,
   "id": "4ade86c5-a666-48ac-a61f-f10b88105f7d",
   "metadata": {},
   "outputs": [
    {
     "name": "stderr",
     "output_type": "stream",
     "text": [
      " 23%|████████████████████████████▋                                                                                               | 111/480 [00:47<02:37,  2.34it/s]"
     ]
    }
   ],
   "source": [
    "# Preprocess the data\n",
    "continuous_features = ['sequence']\n",
    "\n",
    "# Encode gender labels\n",
    "y = train_df.groupby('ID')['label'].first().values\n",
    "\n",
    "IDs = train_df.ID.unique()\n",
    "\n",
    "sequences = []\n",
    "current_sequence = []\n",
    "\n",
    "for id in tqdm.tqdm(IDs) :\n",
    "    current_sequence = train_df[train_df[\"ID\"] == id][continuous_features].values\n",
    "    #print(f\"{id} s sequence length : {len(current_sequence)}\")\n",
    "    sequences.append(current_sequence[:min_count])\n",
    "    #print(type(current_sequence))"
   ]
  },
  {
   "cell_type": "code",
   "execution_count": null,
   "id": "a9f34a27-6592-493a-9c58-0275bbde1b9a",
   "metadata": {},
   "outputs": [],
   "source": [
    "len(sequences[0].flatten())"
   ]
  },
  {
   "cell_type": "code",
   "execution_count": null,
   "id": "c1fc17fe-bfdf-4741-bc36-2040cd92b063",
   "metadata": {},
   "outputs": [],
   "source": [
    "import torch\n",
    "import torch.nn as nn\n",
    "from torch.utils.data import TensorDataset, DataLoader\n",
    "\n",
    "epochs = 1000\n",
    "batch_size = 128\n",
    "device = torch.device(\"cuda\" if torch.cuda.is_available() else \"cpu\")"
   ]
  },
  {
   "cell_type": "code",
   "execution_count": null,
   "id": "fe80c572-40c6-4f01-add0-729a87aea5ec",
   "metadata": {},
   "outputs": [],
   "source": [
    "y"
   ]
  },
  {
   "cell_type": "code",
   "execution_count": null,
   "id": "43762fcb-c057-4182-9054-d83a8d5cbaa5",
   "metadata": {},
   "outputs": [],
   "source": [
    "len(sequences[2])"
   ]
  },
  {
   "cell_type": "code",
   "execution_count": null,
   "id": "cecd995d-1772-4883-b240-73b74004744a",
   "metadata": {},
   "outputs": [],
   "source": [
    "X = torch.tensor(np.array(sequences), dtype=torch.float32)\n",
    "y = torch.tensor(y, dtype=torch.float32)\n",
    "y"
   ]
  },
  {
   "cell_type": "code",
   "execution_count": null,
   "id": "c65f769d-d7e5-42a0-9da4-18b956bc5a02",
   "metadata": {},
   "outputs": [],
   "source": [
    "dataset = TensorDataset(X, y)\n",
    "dataloader = DataLoader(dataset, batch_size=batch_size, shuffle=True)"
   ]
  },
  {
   "cell_type": "code",
   "execution_count": null,
   "id": "612e7abd-603b-4f76-8a4d-9563014d5b9d",
   "metadata": {},
   "outputs": [],
   "source": [
    "\"\"\"eval_df = pd.read_csv(\"Datasets/Gender_data/val_df.csv\" , index_col = 0)\n",
    "grouped = eval_df.groupby(\"ID\")\n",
    "min_count = grouped.size().min()\n",
    "sampled_dfs = []\n",
    "for _ , data in grouped :\n",
    "    sampled_dfs.append(data.head(min_count))\n",
    "balanced_df = pd.concat(sampled_dfs).reset_index(drop= True)\n",
    "# Encode gender labels\n",
    "y_eval = label_encoder_2.transform(balanced_df.groupby('ID')['gender'].first().values)\n",
    "\n",
    "IDs = balanced_df.ID.unique()\n",
    "\n",
    "sequences = []\n",
    "current_sequence = []\n",
    "\n",
    "for id in IDs :\n",
    "    current_sequence = balanced_df[balanced_df[\"ID\"] == id][continuous_features].values\n",
    "    print(f\"{id} s sequence length : {len(current_sequence)}\")\n",
    "    sequences.append(current_sequence)\n",
    "    print(type(current_sequence))\n",
    "    \n",
    "X_eval = torch.tensor(np.array(sequences), dtype=torch.float32)\n",
    "y_eval = torch.tensor(y_eval, dtype=torch.float32)\"\"\""
   ]
  },
  {
   "cell_type": "code",
   "execution_count": null,
   "id": "14feac8f-5249-4393-8e42-6ca24628b452",
   "metadata": {},
   "outputs": [],
   "source": [
    "class RNNModel(nn.Module):\n",
    "    def __init__(self, input_size, hidden_size, output_size):\n",
    "        super(RNNModel, self).__init__()\n",
    "        self.rnn = nn.LSTM(input_size, hidden_size, batch_first=True)\n",
    "        self.fc = nn.Linear(hidden_size, output_size)\n",
    "        self.sigmoid = nn.Sigmoid()\n",
    "\n",
    "    def forward(self, x):\n",
    "        out, _ = self.rnn(x)\n",
    "        out = self.fc(out[:, -1, :])  # Only take the last output of the sequence\n",
    "        out = self.sigmoid(out)\n",
    "        return out\n",
    "\n",
    "input_size = X.shape[2]\n",
    "hidden_size = 64\n",
    "output_size = 1\n",
    "\n",
    "model = RNNModel(input_size, hidden_size, output_size)\n",
    "model.to(device)\n",
    "\n",
    "# Define the loss function and optimizer\n",
    "criterion = nn.BCELoss()  # Binary cross-entropy loss since the output is a single sigmoid value\n",
    "optimizer = torch.optim.Adam(model.parameters(), lr=0.001)\n",
    "\n",
    "best_loss = float('inf')  # Initialize the best loss as infinity\n",
    "best_model_path = 'best_model.pt'  # Define the path to save the best model\n",
    "\n",
    "for epoch in range(epochs):\n",
    "    for inputs, targets in dataloader:\n",
    "\n",
    "        inputs = inputs.to(device)\n",
    "        targets = targets.to(device)\n",
    "\n",
    "        # Forward pass\n",
    "        outputs = model(inputs)\n",
    "\n",
    "        # Compute loss\n",
    "        loss = criterion(outputs, targets.view(len(targets), 1))\n",
    "\n",
    "        # Backward and optimize\n",
    "        optimizer.zero_grad()\n",
    "        loss.backward()\n",
    "        optimizer.step()\n",
    "\n",
    "    # Validation\n",
    "    with torch.no_grad():\n",
    "        model.eval()\n",
    "        print(f'Epoch [{epoch+1}/{epochs}], Training Loss: {loss.item()}')\n",
    "\n",
    "        # Save the model if there is an improvement in validation loss\n",
    "        if loss.item() < best_loss:\n",
    "            best_loss = loss.item()\n",
    "            torch.save(model.state_dict(), best_model_path)\n",
    "            print(\"Saving the best model...\")\n",
    "        model = model.to(device)\n",
    "        model.train()\n",
    "\n",
    "\n",
    "\n",
    "\n",
    "\n",
    "    "
   ]
  },
  {
   "cell_type": "code",
   "execution_count": null,
   "id": "61f0f4df-3b81-4e42-ba9f-e83ce34574dd",
   "metadata": {},
   "outputs": [],
   "source": [
    "# Load the best model for prediction\n",
    "best_model = RNNModel(input_size, hidden_size, output_size)\n",
    "best_model.load_state_dict(torch.load(best_model_path))\n",
    "best_model.to(\"cpu\")\n",
    "\n",
    "with torch.no_grad():\n",
    "    model = model.to(\"cpu\")\n",
    "    model.eval()\n",
    "    outputs = model(X.to(\"cpu\"))\n",
    "    print(outputs)\n",
    "    predicted = torch.round(outputs.squeeze())  # Round the sigmoid output to get binary predictions\n",
    "    accuracy = (predicted == y).sum().item() / len(y)\n",
    "    print(f'Accuracy: {accuracy * 100}%')"
   ]
  },
  {
   "cell_type": "code",
   "execution_count": null,
   "id": "6f2496ef-c0e3-4d47-bbc1-69f2a5223742",
   "metadata": {},
   "outputs": [],
   "source": []
  },
  {
   "cell_type": "code",
   "execution_count": null,
   "id": "734702e9-dec1-4a7b-b36d-785f014bb600",
   "metadata": {},
   "outputs": [],
   "source": []
  },
  {
   "cell_type": "code",
   "execution_count": null,
   "id": "e5bdc6bf-1ab1-45c5-b3e0-0bcca4da5cee",
   "metadata": {},
   "outputs": [],
   "source": []
  },
  {
   "cell_type": "code",
   "execution_count": null,
   "id": "49ec99db-e55d-4482-ab94-e43fde4fd1ef",
   "metadata": {},
   "outputs": [],
   "source": []
  }
 ],
 "metadata": {
  "kernelspec": {
   "display_name": "Python 3 (ipykernel)",
   "language": "python",
   "name": "python3"
  },
  "language_info": {
   "codemirror_mode": {
    "name": "ipython",
    "version": 3
   },
   "file_extension": ".py",
   "mimetype": "text/x-python",
   "name": "python",
   "nbconvert_exporter": "python",
   "pygments_lexer": "ipython3",
   "version": "3.9.16"
  }
 },
 "nbformat": 4,
 "nbformat_minor": 5
}
